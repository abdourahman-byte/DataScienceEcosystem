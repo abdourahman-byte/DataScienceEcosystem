{
 "cells": [
  {
   "cell_type": "markdown",
   "id": "7ea8b669",
   "metadata": {},
   "source": [
    "# Data Science Tools and Ecosystem"
   ]
  },
  {
   "cell_type": "markdown",
   "id": "787e289c",
   "metadata": {},
   "source": [
    "In this notebook, Data Science Tools and Ecosystem are summarized."
   ]
  },
  {
   "cell_type": "markdown",
   "id": "6836ee77",
   "metadata": {},
   "source": [
    "**Objectives:**\n",
    "\n",
    "* Python\n",
    "* R\n",
    "* SQL\n",
    "* Julia\n",
    "* java\n",
    "* C++"
   ]
  },
  {
   "cell_type": "markdown",
   "id": "88c0e1c0",
   "metadata": {},
   "source": [
    "Some of the popular languages that Data Scientists use are:\n",
    "\n",
    "1. Python\n",
    "2. R\n",
    "3. SQL\n",
    "4. scala\n",
    "5. Julia\n",
    "6. Java\n",
    "7. C++\n",
    "8. Javascript"
   ]
  },
  {
   "cell_type": "markdown",
   "id": "c831a878",
   "metadata": {},
   "source": [
    "Some of the commonly used libraries used by Data Scientists include:\n",
    "\n",
    "1. Panda\n",
    "2. Numpy\n",
    "3. Matplotlib\n",
    "4. Seaborn\n",
    "    "
   ]
  },
  {
   "cell_type": "markdown",
   "id": "4a94a364",
   "metadata": {},
   "source": [
    "\n",
    "| Data  Science Tools |\n",
    "| ----------------------------- |\n",
    "| MySQL | Apache Airflow |\n",
    "| Apache Airflow |  \n",
    "| PowerBI |"
   ]
  },
  {
   "cell_type": "markdown",
   "id": "eb952d64",
   "metadata": {},
   "source": [
    "### Below are a few examples of evaluating arithmetic expressions in Python\n"
   ]
  },
  {
   "cell_type": "code",
   "execution_count": 19,
   "id": "d651bb3a",
   "metadata": {},
   "outputs": [
    {
     "data": {
      "text/plain": [
       "17"
      ]
     },
     "execution_count": 19,
     "metadata": {},
     "output_type": "execute_result"
    }
   ],
   "source": [
    "#This a simple arithmetic expression to mutiply then add integers\n",
    "(3*4)+5"
   ]
  },
  {
   "cell_type": "code",
   "execution_count": 22,
   "id": "51280144",
   "metadata": {},
   "outputs": [
    {
     "name": "stdout",
     "output_type": "stream",
     "text": [
      "3.3333333333333335\n"
     ]
    }
   ],
   "source": [
    "#This will convert 200 minutes to hours by diving by 60\n",
    "m = 200\n",
    "h = m / 60 \n",
    "print(h)"
   ]
  },
  {
   "cell_type": "markdown",
   "id": "83e02227",
   "metadata": {},
   "source": [
    "## Author\n",
    "ABDOULRAHMAN ALI GUIRREH"
   ]
  },
  {
   "cell_type": "code",
   "execution_count": null,
   "id": "19d07ab6",
   "metadata": {},
   "outputs": [],
   "source": []
  }
 ],
 "metadata": {
  "kernelspec": {
   "display_name": "Python 3 (ipykernel)",
   "language": "python",
   "name": "python3"
  },
  "language_info": {
   "codemirror_mode": {
    "name": "ipython",
    "version": 3
   },
   "file_extension": ".py",
   "mimetype": "text/x-python",
   "name": "python",
   "nbconvert_exporter": "python",
   "pygments_lexer": "ipython3",
   "version": "3.9.17"
  }
 },
 "nbformat": 4,
 "nbformat_minor": 5
}
